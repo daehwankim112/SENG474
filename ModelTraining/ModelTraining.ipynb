{
 "cells": [
  {
   "cell_type": "code",
   "execution_count": 1,
   "id": "84b44394-c2fb-4724-affa-cf07d8d8c7ff",
   "metadata": {},
   "outputs": [],
   "source": [
    "########################################\n",
    "# Part 1: Data Loading and Preprocessing\n",
    "########################################\n",
    "import numpy as np\n",
    "import pandas as pd\n",
    "from sklearn.decomposition import TruncatedSVD\n",
    "from sklearn.preprocessing import StandardScaler\n",
    "from sklearn.metrics.pairwise import cosine_similarity\n",
    "from sklearn.neighbors import NearestNeighbors\n",
    "from sklearn.mixture import GaussianMixture\n",
    "import matplotlib.pyplot as plt"
   ]
  },
  {
   "cell_type": "code",
   "execution_count": 2,
   "id": "d2cc3a72-4933-4bd6-97f7-4289e84f05bc",
   "metadata": {},
   "outputs": [
    {
     "name": "stdout",
     "output_type": "stream",
     "text": [
      "Data loaded. Example rows:\n",
      "                       id  danceability    energy       key  loudness  \\\n",
      "0  7lmeHLHBe4nmXzuXc0HDjk     -0.239643  1.545439  0.504262  0.855004   \n",
      "1  1wsRitfRRtWyEapl0q22o8      0.448997  1.470214  1.632828  0.794662   \n",
      "2  1hR0fIFK2qRG3f3RF70pb7     -1.067078  1.516782  0.504262  0.850871   \n",
      "3  2lbASgTSoDO7MTuLAXlTW0     -0.399791  1.506035  1.632828  0.783751   \n",
      "4  1MQTmpYOZ6fcMQc56Hdo7T     -0.474528  1.369913 -0.906446  0.635127   \n",
      "\n",
      "   speechiness  acousticness  instrumentalness  liveness   valence  ...  \\\n",
      "0    -0.084450     -1.018675         -0.663029  0.731281  0.184434  ...   \n",
      "1     0.998881     -1.054604         -0.662862 -0.286777  0.132294  ...   \n",
      "2     3.770628     -1.026024         -0.663054 -0.453920 -0.310892  ...   \n",
      "3     1.459273     -0.646043         -0.663049 -0.458985  0.448856  ...   \n",
      "4    -0.108879     -1.085308         -0.369701 -0.672220  0.318507  ...   \n",
      "\n",
      "   loc_pca_0  loc_pca_1  loc_pca_2  loc_pca_3  loc_pca_4  loc_pca_5  \\\n",
      "0  24.203403  -0.158920   0.247126   0.789665  -0.060023  -0.640468   \n",
      "1  28.493807   0.228536   0.646449   1.706311  -0.004733  -1.077771   \n",
      "2   4.036218  -0.282505   0.266417   0.224058  -0.022911  -1.097135   \n",
      "3   0.141121  -0.180057   0.039945  -0.117471   0.191789  -0.015862   \n",
      "4  11.897067  -0.646398   0.500255  -0.252342   0.111723  -0.587308   \n",
      "\n",
      "   loc_pca_6  loc_pca_7  loc_pca_8  loc_pca_9  \n",
      "0   1.330385  -0.857548  -0.423787   0.039703  \n",
      "1   0.702044  -1.451287   0.963210   0.337379  \n",
      "2  -0.075220  -0.147339   0.320747  -0.147518  \n",
      "3   0.012023  -0.025625   0.022630  -0.076836  \n",
      "4   0.765197  -0.737422  -0.186457  -0.062984  \n",
      "\n",
      "[5 rows x 22 columns]\n"
     ]
    }
   ],
   "source": [
    "# Load data from new_features.csv\n",
    "df = pd.read_csv(\"../data/new_features.csv\")\n",
    "print(\"Data loaded. Example rows:\")\n",
    "print(df.head())"
   ]
  },
  {
   "cell_type": "code",
   "execution_count": 3,
   "id": "99b898ce-a017-44f6-9f95-3a892a15cf53",
   "metadata": {},
   "outputs": [
    {
     "name": "stdout",
     "output_type": "stream",
     "text": [
      "\n",
      "Interaction matrix shape: (134712, 10)\n",
      "[[ 2.42034032e+01 -1.58920329e-01  2.47125516e-01  7.89664658e-01\n",
      "  -6.00232886e-02 -6.40467692e-01  1.33038490e+00 -8.57547533e-01\n",
      "  -4.23787206e-01  3.97033482e-02]\n",
      " [ 2.84938068e+01  2.28536035e-01  6.46449192e-01  1.70631088e+00\n",
      "  -4.73284325e-03 -1.07777097e+00  7.02043500e-01 -1.45128731e+00\n",
      "   9.63210248e-01  3.37378803e-01]\n",
      " [ 4.03621801e+00 -2.82504531e-01  2.66416716e-01  2.24057832e-01\n",
      "  -2.29110575e-02 -1.09713456e+00 -7.52202908e-02 -1.47339233e-01\n",
      "   3.20746836e-01 -1.47517915e-01]\n",
      " [ 1.41121268e-01 -1.80056725e-01  3.99448520e-02 -1.17471261e-01\n",
      "   1.91789130e-01 -1.58619716e-02  1.20229957e-02 -2.56249095e-02\n",
      "   2.26302518e-02 -7.68359042e-02]\n",
      " [ 1.18970673e+01 -6.46397813e-01  5.00255177e-01 -2.52341680e-01\n",
      "   1.11723382e-01 -5.87307520e-01  7.65196968e-01 -7.37421723e-01\n",
      "  -1.86457089e-01 -6.29838242e-02]]\n"
     ]
    }
   ],
   "source": [
    "# Extract the playlist location features (PCA-reduced), e.g., loc_pca_0 ... loc_pca_9\n",
    "loc_pca_cols = [col for col in df.columns if col.startswith(\"loc_pca_\")]\n",
    "interaction_matrix = df[loc_pca_cols].values\n",
    "print(\"\\nInteraction matrix shape:\", interaction_matrix.shape)\n",
    "print(interaction_matrix[:5,:])"
   ]
  },
  {
   "cell_type": "code",
   "execution_count": 4,
   "id": "87feb08d-6d99-48e0-b0a2-90b2acf66b79",
   "metadata": {},
   "outputs": [
    {
     "name": "stdout",
     "output_type": "stream",
     "text": [
      "CF latent factors shape: (134712, 10)\n",
      "[[ 1.34396653 -0.23610125  0.56466556 ... -0.25026262  0.02991909\n",
      "   0.00542487]\n",
      " [-0.30140504 -0.21641625  0.11910229 ...  0.12143172  0.0776299\n",
      "   0.05102219]\n",
      " [ 0.10702813 -0.3446732   0.09637378 ...  0.09145588  0.01603204\n",
      "  -0.04303788]\n",
      " ...\n",
      " [-0.98728123  0.00980382 -0.00592042 ... -0.01617723  0.00858322\n",
      "  -0.01902092]\n",
      " [-0.98710829  0.01361991 -0.00282743 ...  0.03376629 -0.00749121\n",
      "   0.01406205]\n",
      " [-0.74422675 -0.00149335  0.08163496 ...  0.05391664  0.07274814\n",
      "  -0.10867274]]\n"
     ]
    }
   ],
   "source": [
    "########################################\n",
    "# Part 2: Collaborative Filtering (CF) via SVD\n",
    "########################################\n",
    "# Apply Truncated SVD to the interaction matrix to obtain CF latent factors\n",
    "n_components = min(50, interaction_matrix.shape[1])\n",
    "svd = TruncatedSVD(n_components=n_components, random_state=42)\n",
    "cf_latent = svd.fit_transform(interaction_matrix)\n",
    "print(\"CF latent factors shape:\", cf_latent.shape)\n",
    "\n",
    "# Map each track ID to its CF latent vector\n",
    "all_track_ids = df[\"id\"].values\n",
    "track_latent = {track_id: cf_latent[i] for i, track_id in enumerate(all_track_ids)}\n",
    "print(cf_latent[5:])"
   ]
  },
  {
   "cell_type": "code",
   "execution_count": 5,
   "id": "39be6658-3c0c-4b1e-bd9e-d18dcf36751f",
   "metadata": {},
   "outputs": [],
   "source": [
    "# Recommendation function using dot product similarity (Pure CF)\n",
    "def recommend_tracks_dot_with_scores(target_track, track_latent, top_n=10):\n",
    "    if target_track not in track_latent:\n",
    "        print(f\"Track {target_track} not found.\")\n",
    "        return []\n",
    "    target_vector = track_latent[target_track]\n",
    "    all_track_ids_list = list(track_latent.keys())\n",
    "    all_vectors = np.array(list(track_latent.values()))\n",
    "    similarities = np.dot(all_vectors, target_vector)\n",
    "    sorted_indices = np.argsort(similarities)[::-1]\n",
    "    recommendations = [(all_track_ids_list[i], similarities[i])\n",
    "                       for i in sorted_indices if all_track_ids_list[i] != target_track]\n",
    "    return recommendations[:top_n]"
   ]
  },
  {
   "cell_type": "code",
   "execution_count": 6,
   "id": "b676a737-e1cd-4cf9-8154-6320d9917d6e",
   "metadata": {},
   "outputs": [
    {
     "name": "stdout",
     "output_type": "stream",
     "text": [
      "Content features shape: (134712, 11)\n"
     ]
    }
   ],
   "source": [
    "########################################\n",
    "# Part 3: Content-Based Feature Extraction\n",
    "########################################\n",
    "# Define audio feature columns; ensure popularity is present\n",
    "audio_cols = [\"danceability\", \"energy\", \"valence\", \"tempo\", \"loudness\", \"speechiness\", \"acousticness\", \"instrumentalness\", \"liveness\", \"valence\", \"tempo\"]\n",
    "#if \"popularity\" not in df.columns:\n",
    "#    if \"occurrence_count\" in df.columns:\n",
    "#        df[\"popularity\"] = df[\"occurrence_count\"]\n",
    "#    else:\n",
    "#        df[\"popularity\"] = 1 # np.random.randint(100, 1000, size=len(df)) # Why? -David\n",
    "#content_cols = audio_cols + [\"popularity\"]\n",
    "\n",
    "# Standardize the content features\n",
    "scaler = StandardScaler()\n",
    "# content_scaled = scaler.fit_transform(df[content_cols].values)\n",
    "content_scaled = scaler.fit_transform(df[audio_cols].values)\n",
    "print(\"Content features shape:\", content_scaled.shape)\n",
    "\n",
    "content_scaled_dict = {df.iloc[i][\"id\"]: content_scaled[i] for i in range(len(df))}"
   ]
  },
  {
   "cell_type": "code",
   "execution_count": 7,
   "id": "ca25dc92-8cc8-400d-886c-c09ff3c98e32",
   "metadata": {},
   "outputs": [
    {
     "name": "stdout",
     "output_type": "stream",
     "text": [
      "Hybrid vector shape: (134712, 21)\n"
     ]
    }
   ],
   "source": [
    "########################################\n",
    "# Part 4: Hybrid Vector Construction\n",
    "########################################\n",
    "# Hybrid vector = [CF latent vector, Content features]\n",
    "hybrid_vectors = np.concatenate([cf_latent, content_scaled], axis=1) # cf_latent.shape = (134712, 10)\n",
    "print(\"Hybrid vector shape:\", hybrid_vectors.shape)\n",
    "# Build a discionary based on hybrid_vectors by id\n",
    "hybrid_dict = {df.iloc[i][\"id\"]: hybrid_vectors[i] for i in range(len(df))}"
   ]
  },
  {
   "cell_type": "code",
   "execution_count": 8,
   "id": "58b10235-5a3d-4497-87ea-774ca4f52a35",
   "metadata": {},
   "outputs": [],
   "source": [
    "########################################\n",
    "# Part 5: Recommendation Function for Hybrid Model\n",
    "########################################\n",
    "def recommend_hybrid(target_track, hybrid_dict, top_n=10):\n",
    "    if target_track not in hybrid_dict:\n",
    "        print(f\"Track {target_track} not found.\")\n",
    "        return []\n",
    "    target_vector = hybrid_dict[target_track]\n",
    "    all_ids = list(hybrid_dict.keys())\n",
    "    all_vectors = np.array(list(hybrid_dict.values()))\n",
    "    similarities = np.dot(all_vectors, target_vector) # Interesting. This works? - David\n",
    "    sorted_indices = np.argsort(similarities)[::-1]\n",
    "    recommendations = [(all_ids[i], similarities[i])\n",
    "                       for i in sorted_indices if all_ids[i] != target_track]\n",
    "    return recommendations[:top_n]"
   ]
  },
  {
   "cell_type": "code",
   "execution_count": 9,
   "id": "e2f735d0-9fc2-462d-a6e3-7545edf5409c",
   "metadata": {},
   "outputs": [],
   "source": [
    "########################################\n",
    "# Part 6: Recommendation Function for Nearest Neighbors\n",
    "########################################\n",
    "# Can't use regression model because ids are categorical identifiers\n",
    "knn = NearestNeighbors(n_neighbors=10, algorithm='ball_tree')\n",
    "all_track_ids_list = list(track_latent.keys())\n",
    "all_vectors = np.array(list(track_latent.values()))\n",
    "# knn.fit(all_vectors, all_track_ids_list)\n",
    "knn.fit(all_vectors)\n",
    "\n",
    "def recommend_nearest(target_track, track_latent = track_latent, top_n=10):\n",
    "    if target_track not in track_latent:\n",
    "        print(f\"Track {target_track} not found.\")\n",
    "        return []\n",
    "    target_vector = track_latent[target_track].reshape(1, -1)\n",
    "    distances, indices = knn.kneighbors(target_vector, n_neighbors=top_n)\n",
    "    recommendations = [(all_track_ids_list[idx], distances[0][j]) for j, idx in enumerate(indices[0])]\n",
    "    return recommendations[:top_n]"
   ]
  },
  {
   "cell_type": "code",
   "execution_count": 57,
   "id": "badbe170-d3d6-41f3-8b3c-0b0af863fa20",
   "metadata": {},
   "outputs": [],
   "source": [
    "########################################\n",
    "# Part 7: Recommendation Function for GMM and Nearest Neighbors\n",
    "########################################\n",
    "gmm = GaussianMixture(n_components=10, covariance_type='full', random_state=42)\n",
    "all_track_ids_list = list(content_scaled_dict.keys())\n",
    "all_vectors = np.array(list(content_scaled_dict.values()))\n",
    "gmm.fit(all_vectors)\n",
    "GMM_labels = gmm.predict(all_vectors)\n",
    "GMM_probs = gmm.predict_proba(all_vectors)"
   ]
  },
  {
   "cell_type": "code",
   "execution_count": 61,
   "id": "74e656e8-4918-4c72-a529-aa2bfff5b26b",
   "metadata": {},
   "outputs": [],
   "source": [
    "def recommend_GMM_nearest(target_track_id, content_scaled_dict = content_scaled_dict, top_n=10):\n",
    "    if target_track_id not in all_track_ids_list:\n",
    "        print(f\"Track {target_track_id} not found.\")\n",
    "        return []\n",
    "    target_vector = content_scaled_dict[target_track_id].reshape(1, -1)\n",
    "    predicted_label = gmm.predict(target_vector)\n",
    "\n",
    "    cluster_indices = np.where(GMM_labels == predicted_label)[0]\n",
    "    cluster_data = all_vectors[cluster_indices]\n",
    "\n",
    "    # using nearest neighbor search\n",
    "    nbrs = NearestNeighbors(n_neighbors=10, algorithm='ball_tree')\n",
    "    nbrs.fit(cluster_data)\n",
    "    distances, indices = nbrs.kneighbors(target_vector, n_neighbors=top_n)\n",
    "\n",
    "    recommendations = [(all_track_ids_list[idx], distances[0][j]) for j, idx in enumerate(indices[0])]\n",
    "    return recommendations[:top_n]"
   ]
  },
  {
   "cell_type": "code",
   "execution_count": 11,
   "id": "eb46f3e4-0749-4bfb-b9f2-c9e71f1222f1",
   "metadata": {},
   "outputs": [],
   "source": [
    "########################################\n",
    "# Part 8: Evaluation via Masking and Hit Rate Metrics\n",
    "########################################\n",
    "# Define ground truth: for each track, the nearest neighbor in the original loc_pca space\n",
    "def ground_truth_top(target_index):\n",
    "    target_vec = interaction_matrix[target_index].reshape(1, -1)\n",
    "    sims = np.dot(interaction_matrix, target_vec.T).flatten() # Using dot product to find the closest vector\n",
    "    sims[target_index] = -np.inf  # exclude the track itself\n",
    "    best_idx = np.argmax(sims) # argmax = Returns the indices of the maximum values along an axis\n",
    "    return all_track_ids[best_idx]"
   ]
  },
  {
   "cell_type": "code",
   "execution_count": 12,
   "id": "7085caa5-a17d-4d8f-8446-197fd8f75a0e",
   "metadata": {},
   "outputs": [],
   "source": [
    "# Evaluate Pure CF model hit rate on a sample of tracks\n",
    "sample_size = 1000\n",
    "num_tracks = len(all_track_ids)\n",
    "sample_indices = np.random.choice(num_tracks, sample_size, replace=False)"
   ]
  },
  {
   "cell_type": "code",
   "execution_count": 13,
   "id": "498d72aa-b37f-406a-b1df-b78b64b9fc87",
   "metadata": {},
   "outputs": [
    {
     "name": "stdout",
     "output_type": "stream",
     "text": [
      "Pure CF Hit Rate (Top-10): 0.1560\n"
     ]
    }
   ],
   "source": [
    "hits_cf = 0\n",
    "for i in sample_indices:\n",
    "    gt = ground_truth_top(i)\n",
    "    target_id = all_track_ids[i]\n",
    "    recs_cf = [rec for rec, score in recommend_tracks_dot_with_scores(target_id, track_latent, top_n=10)]\n",
    "    # If ground truth top is in the top 10 recommended tracks, recognize it as a hit\n",
    "    if gt in recs_cf:\n",
    "        hits_cf += 1\n",
    "hit_rate_cf = hits_cf / sample_size\n",
    "print(f\"Pure CF Hit Rate (Top-10): {hit_rate_cf:.4f}\")"
   ]
  },
  {
   "cell_type": "code",
   "execution_count": 14,
   "id": "adeda337-7244-48fb-bfb0-dbc189a3ff26",
   "metadata": {},
   "outputs": [
    {
     "name": "stdout",
     "output_type": "stream",
     "text": [
      "Hybrid (α = 1.0, pure CF) Hit Rate (Top-10): 0.0880\n"
     ]
    }
   ],
   "source": [
    "# Evaluate Hybrid model (without weighting, i.e., pure concatenation)\n",
    "hybrid_hit_rate = 0\n",
    "for i in sample_indices:\n",
    "    gt = ground_truth_top(i)\n",
    "    target_id = all_track_ids[i]\n",
    "    recs_hybrid = [rec for rec, score in recommend_hybrid(target_id, hybrid_dict, top_n=10)]\n",
    "    # If ground truth top is in the top 10 recommended tracks, recognize it as a hit\n",
    "    if gt in recs_hybrid:\n",
    "        hybrid_hit_rate += 1\n",
    "hybrid_hit_rate = hybrid_hit_rate / sample_size\n",
    "print(f\"Hybrid (α = 1.0, pure CF) Hit Rate (Top-10): {hybrid_hit_rate:.4f}\")"
   ]
  },
  {
   "cell_type": "code",
   "execution_count": 15,
   "id": "46d8c641-36dd-429d-ae14-9e81e3fc3950",
   "metadata": {},
   "outputs": [
    {
     "name": "stdout",
     "output_type": "stream",
     "text": [
      "Nearest Neighboring Hit Rate (Top-10): 0.1600\n"
     ]
    }
   ],
   "source": [
    "# Evaluate Nearest Neighboring\n",
    "hits_KNN = 0\n",
    "for i in sample_indices:\n",
    "    gt = ground_truth_top(i)\n",
    "    target_id = all_track_ids[i]\n",
    "    recs_KNN = [rec for rec, score in recommend_nearest(target_id, track_latent, top_n=10)]\n",
    "    # If ground truth top is in the top 10 recommended tracks, recognize it as a hit\n",
    "    if gt in recs_KNN:\n",
    "        hits_KNN += 1\n",
    "hit_rate_NNR = hits_KNN / sample_size\n",
    "print(f\"Nearest Neighboring Hit Rate (Top-10): {hit_rate_NNR:.4f}\")"
   ]
  },
  {
   "cell_type": "code",
   "execution_count": 63,
   "id": "0830880e-521f-4055-b097-37759f09eec5",
   "metadata": {},
   "outputs": [
    {
     "name": "stdout",
     "output_type": "stream",
     "text": [
      "Gausian Mixture Nearest Neighboring Hit Rate (Top-10): 0.0000\n"
     ]
    }
   ],
   "source": [
    "# Evaluate GMM Nearest Neighboring\n",
    "hits_GMM_NN = 0\n",
    "for i in sample_indices:\n",
    "    gt = ground_truth_top(i)\n",
    "    target_id = all_track_ids[i]\n",
    "    recs_GMM_NN = [rec for rec, score in recommend_GMM_nearest(target_id, content_scaled_dict, top_n=10)]\n",
    "    # If ground truth top is in the top 10 recommended tracks, recognize it as a hit\n",
    "    \n",
    "    if gt in recs_GMM_NN:\n",
    "        hits_GMM_NN += 1\n",
    "hit_rate_GMM_NN = hits_GMM_NN / sample_size\n",
    "print(f\"Gausian Mixture Nearest Neighboring Hit Rate (Top-10): {hit_rate_GMM_NN:.4f}\")"
   ]
  },
  {
   "cell_type": "code",
   "execution_count": 17,
   "id": "1c6bf258-1092-4dd5-9023-139929b9c2d6",
   "metadata": {},
   "outputs": [
    {
     "name": "stdout",
     "output_type": "stream",
     "text": [
      "Alpha: 0.6 -> Hit Rate: 0.0890\n",
      "Alpha: 0.7 -> Hit Rate: 0.0900\n",
      "Alpha: 0.8 -> Hit Rate: 0.0910\n",
      "Alpha: 0.9 -> Hit Rate: 0.0960\n",
      "Alpha: 1.0 -> Hit Rate: 0.1560\n"
     ]
    }
   ],
   "source": [
    "########################################\n",
    "# Part 9: Grid Search for Weighted Hybrid Model\n",
    "########################################\n",
    "# We combine CF and content features using a weight: \n",
    "# Weighted Hybrid = [α × CF_latent, (1-α) × content_scaled]\n",
    "alphas = [0.6, 0.7, 0.8, 0.9, 1.0]\n",
    "hit_rates = []\n",
    "for alpha in alphas:\n",
    "    weighted_hybrid_vectors = np.concatenate([alpha * cf_latent, (1 - alpha) * content_scaled], axis=1)\n",
    "    weighted_hybrid_dict = {df.iloc[i][\"id\"]: weighted_hybrid_vectors[i] for i in range(len(df))}\n",
    "    hits = 0\n",
    "    for i in sample_indices:\n",
    "        gt = ground_truth_top(i)\n",
    "        target_id = all_track_ids[i]\n",
    "        recs = [rec for rec, score in recommend_hybrid(target_id, weighted_hybrid_dict, top_n=10)]\n",
    "        if gt in recs:\n",
    "            hits += 1\n",
    "    hit_rate = hits / sample_size\n",
    "    hit_rates.append(hit_rate)\n",
    "    print(f\"Alpha: {alpha:.1f} -> Hit Rate: {hit_rate:.4f}\")"
   ]
  },
  {
   "cell_type": "code",
   "execution_count": 18,
   "id": "fb5b348c-0b68-4bd7-9a79-d8c89ffbeeb5",
   "metadata": {},
   "outputs": [
    {
     "data": {
      "image/png": "[encoded data removed]",
      "text/plain": [
       "<Figure size 800x600 with 1 Axes>"
      ]
     },
     "metadata": {},
     "output_type": "display_data"
    }
   ],
   "source": [
    "# Plot Hit Rate vs. Alpha\n",
    "plt.figure(figsize=(8, 6))\n",
    "plt.plot(alphas, hit_rates, marker='o', linestyle='-')\n",
    "plt.xlabel(\"Alpha (CF weight)\")\n",
    "plt.ylabel(\"Hit Rate (Top-10)\")\n",
    "plt.title(\"Hit Rate vs. Alpha for Weighted Hybrid Model\")\n",
    "plt.grid(True)\n",
    "plt.show()"
   ]
  },
  {
   "cell_type": "code",
   "execution_count": null,
   "id": "ee3f0f14-c6a5-4a0c-8794-51a4db05e262",
   "metadata": {},
   "outputs": [],
   "source": []
  }
 ],
 "metadata": {
  "kernelspec": {
   "display_name": "Python [conda env:SENG474]",
   "language": "python",
   "name": "conda-env-SENG474-py"
  },
  "language_info": {
   "codemirror_mode": {
    "name": "ipython",
    "version": 3
   },
   "file_extension": ".py",
   "mimetype": "text/x-python",
   "name": "python",
   "nbconvert_exporter": "python",
   "pygments_lexer": "ipython3",
   "version": "3.10.16"
  }
 },
 "nbformat": 4,
 "nbformat_minor": 5
}
