{
 "cells": [
  {
   "cell_type": "code",
   "execution_count": null,
   "id": "c8451894-4855-41c4-83ec-a3ab16777863",
   "metadata": {},
   "outputs": [],
   "source": [
    "COLLOBARITIVE FILTERING - NEURAL COLLOBARITIVE FILTERING"
   ]
  },
  {
   "cell_type": "code",
   "execution_count": null,
   "id": "5384877c-403b-4591-abe1-407d62d029d0",
   "metadata": {},
   "outputs": [],
   "source": []
  }
 ],
 "metadata": {
  "kernelspec": {
   "display_name": "Python [conda env:a1_env]",
   "language": "python",
   "name": "conda-env-a1_env-py"
  },
  "language_info": {
   "codemirror_mode": {
    "name": "ipython",
    "version": 3
   },
   "file_extension": ".py",
   "mimetype": "text/x-python",
   "name": "python",
   "nbconvert_exporter": "python",
   "pygments_lexer": "ipython3",
   "version": "3.10.16"
  }
 },
 "nbformat": 4,
 "nbformat_minor": 5
}
