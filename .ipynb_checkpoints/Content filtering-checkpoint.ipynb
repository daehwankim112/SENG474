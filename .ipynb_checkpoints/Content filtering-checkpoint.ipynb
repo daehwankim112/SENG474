{
 "cells": [
  {
   "cell_type": "code",
   "execution_count": 12,
   "id": "2645a752-ff10-4ea9-8689-5201a5555309",
   "metadata": {},
   "outputs": [],
   "source": [
    "import pandas as pd\n",
    "import numpy as np\n",
    "from sklearn.mixture import GaussianMixture\n",
    "from sklearn.preprocessing import StandardScaler\n",
    "from sklearn.neighbors import NearestNeighbors\n",
    "import matplotlib.pyplot as plt"
   ]
  },
  {
   "cell_type": "code",
   "execution_count": 8,
   "id": "7a1f95c8-6f54-4c2d-99e6-52f8e90015eb",
   "metadata": {},
   "outputs": [
    {
     "name": "stdout",
     "output_type": "stream",
     "text": [
      "0       5\n",
      "1      31\n",
      "2      36\n",
      "3      38\n",
      "4      40\n",
      "5      68\n",
      "6      95\n",
      "7     105\n",
      "8     107\n",
      "9     123\n",
      "10    124\n",
      "11    136\n",
      "12    170\n",
      "13    173\n",
      "Name: 1, dtype: int64\n"
     ]
    }
   ],
   "source": [
    "# 1. Load the similar playlist id\n",
    "df_pid = pd.read_csv(\"similar_pids.csv\")\n",
    "df_nf = pd.read_csv(\"new_features.csv\")\n",
    "pid_list = df_pid.iloc[:, 0]\n",
    "print(pid_list)"
   ]
  },
  {
   "cell_type": "code",
   "execution_count": 16,
   "id": "d318eaa9-6bd6-4c94-9757-dae539b9cb62",
   "metadata": {},
   "outputs": [
    {
     "name": "stdout",
     "output_type": "stream",
     "text": [
      "                                track_uri  \\\n",
      "0    spotify:track:0CAfXk7DXMnon4gLudAp7J   \n",
      "1    spotify:track:5uuJruktM9fMdN9Va0DUMl   \n",
      "2    spotify:track:6e8Ou0wiqAzIpWb2eSxll8   \n",
      "3    spotify:track:27AHAtAirQapVldIm4c9ZX   \n",
      "4    spotify:track:6YUTL4dYpB9xZO5qExPf05   \n",
      "..                                    ...   \n",
      "169  spotify:track:0wdaPticLmmqJdhgLDJ9zI   \n",
      "170  spotify:track:2CG9mGkKC6IQE5lEjDioEi   \n",
      "171  spotify:track:1OK4hVcucqYKMU9Ipb3dtx   \n",
      "172  spotify:track:4jnFqNWeJCeCRHc4HCdxfd   \n",
      "173  spotify:track:44KTAWcCrZdLwuvV2STTOA   \n",
      "\n",
      "                                            track_name      artist_name  \\\n",
      "0        Low (feat T-Pain) - Feat T-Pain Album Version         Flo Rida   \n",
      "1                                Play That Funky Music      Wild Cherry   \n",
      "2                                                Miami       Will Smith   \n",
      "3                                                 Jump       Kris Kross   \n",
      "4                                               Summer    Calvin Harris   \n",
      "..                                                 ...              ...   \n",
      "169                                   Who Can I Run To           Xscape   \n",
      "170                                    Just Kickin' It           Xscape   \n",
      "171                                      Just Got Paid      Johnny Kemp   \n",
      "172                                  Remember the Time  Michael Jackson   \n",
      "173  Quizas, Quizas, Quizas [Perhaps, Perhaps, Perh...      Ben E. King   \n",
      "\n",
      "                   track_id                      id  \\\n",
      "0    0CAfXk7DXMnon4gLudAp7J  0CAfXk7DXMnon4gLudAp7J   \n",
      "1    5uuJruktM9fMdN9Va0DUMl  5uuJruktM9fMdN9Va0DUMl   \n",
      "2    6e8Ou0wiqAzIpWb2eSxll8  6e8Ou0wiqAzIpWb2eSxll8   \n",
      "3    27AHAtAirQapVldIm4c9ZX  27AHAtAirQapVldIm4c9ZX   \n",
      "4    6YUTL4dYpB9xZO5qExPf05  6YUTL4dYpB9xZO5qExPf05   \n",
      "..                      ...                     ...   \n",
      "169  0wdaPticLmmqJdhgLDJ9zI  0wdaPticLmmqJdhgLDJ9zI   \n",
      "170  2CG9mGkKC6IQE5lEjDioEi  2CG9mGkKC6IQE5lEjDioEi   \n",
      "171  1OK4hVcucqYKMU9Ipb3dtx  1OK4hVcucqYKMU9Ipb3dtx   \n",
      "172  4jnFqNWeJCeCRHc4HCdxfd  4jnFqNWeJCeCRHc4HCdxfd   \n",
      "173  44KTAWcCrZdLwuvV2STTOA  44KTAWcCrZdLwuvV2STTOA   \n",
      "\n",
      "                                                  name  \\\n",
      "0                                   Low (feat. T-Pain)   \n",
      "1                                Play That Funky Music   \n",
      "2                                                Miami   \n",
      "3                                                 Jump   \n",
      "4                                               Summer   \n",
      "..                                                 ...   \n",
      "169                                   Who Can I Run To   \n",
      "170                                    Just Kickin' It   \n",
      "171                     Just Got Paid - Single Version   \n",
      "172                                  Remember the Time   \n",
      "173  Quizas, Quizas, Quizas (Perhaps, Perhaps, Perh...   \n",
      "\n",
      "                      album                album_id                 artists  \\\n",
      "0            Mail on Sunday  5j1wrOAOm5KFd17pPiSvle  ['Flo Rida', 'T-Pain']   \n",
      "1               Wild Cherry  27ompw8zlrCkWMacS21ysX         ['Wild Cherry']   \n",
      "2          Big Willie Style  2esWeP8Ln1sXA0jbDmi3Zq          ['Will Smith']   \n",
      "3       Totally Krossed Out  5bGumbB29JBPlv4ECVURka          ['Kris Kross']   \n",
      "4                    Motion  48zisMeiXniWLzOQghbPqS       ['Calvin Harris']   \n",
      "..                      ...                     ...                     ...   \n",
      "169            Off The Hook  6lwTyWDtJbJ3czkIkUBPoj              ['Xscape']   \n",
      "170  Hummin' Comin' At 'Cha  6JtogZdgh6aCgfMjCi40FN              ['Xscape']   \n",
      "171  Radio Hits Of the '80s  4OhFkx7dTPfj0BXerfldyk         ['Johnny Kemp']   \n",
      "172               Dangerous  0oX4SealMgNXrvRDhqqOKg     ['Michael Jackson']   \n",
      "173          Spanish Harlem  2WcVleVG28RWzWLDLZnVgp         ['Ben E. King']   \n",
      "\n",
      "                                            artist_ids  ...  speechiness  \\\n",
      "0    ['0jnsk9HBra6NMjO2oANoPY', '3aQeKQSyrW4qWr35id...  ...       0.0791   \n",
      "1                           ['4apX9tIeHb85yPyy4F6FJG']  ...       0.0619   \n",
      "2                           ['41qil2VaGbD194gaEcmmyx']  ...       0.1500   \n",
      "3                           ['2zrZfs23sjuHDv4E6YRmNf']  ...       0.1640   \n",
      "4                           ['7CajNmpbOovFoOoasH2HaY']  ...       0.0346   \n",
      "..                                                 ...  ...          ...   \n",
      "169                         ['5z2cHsOmmmWcAPNG1oEhw0']  ...       0.0588   \n",
      "170                         ['5z2cHsOmmmWcAPNG1oEhw0']  ...       0.0613   \n",
      "171                         ['2u8hDu5KBMpvneOV8Th3LE']  ...       0.0804   \n",
      "172                         ['3fMbdgg4jU18AjLCKBhRSm']  ...       0.0582   \n",
      "173                         ['3plJVWt88EqjvtuB4ZDRV3']  ...       0.0308   \n",
      "\n",
      "     acousticness  instrumentalness  liveness  valence    tempo  duration_ms  \\\n",
      "0        0.092800          0.000000    0.1390    0.304  128.008       231400   \n",
      "1        0.043500          0.000000    0.0610    0.933  109.394       300000   \n",
      "2        0.033900          0.000017    0.0441    0.890  108.170       197560   \n",
      "3        0.000501          0.004030    0.3330    0.481  101.972       195107   \n",
      "4        0.021100          0.017800    0.1410    0.743  127.949       222533   \n",
      "..            ...               ...       ...      ...      ...          ...   \n",
      "169      0.483000          0.000000    0.0644    0.632  140.233       216333   \n",
      "170      0.057100          0.000023    0.5790    0.730   80.902       204057   \n",
      "171      0.015700          0.000028    0.1090    0.784  117.112       212467   \n",
      "172      0.153000          0.002240    0.3050    0.795  108.002       239227   \n",
      "173      0.793000          0.000176    0.3090    0.854   92.542       132733   \n",
      "\n",
      "     time_signature  year  release_date  \n",
      "0               4.0  2008    2008-03-17  \n",
      "1               4.0  1976          1976  \n",
      "2               4.0  1997    1997-10-03  \n",
      "3               4.0  1992    1992-03-17  \n",
      "4               4.0  2014    2014-10-31  \n",
      "..              ...   ...           ...  \n",
      "169             4.0  1995    1995-07-01  \n",
      "170             4.0  1993    1993-10-12  \n",
      "171             4.0  1979          1979  \n",
      "172             4.0  1991    1991-11-13  \n",
      "173             4.0  1961          1961  \n",
      "\n",
      "[174 rows x 28 columns]\n",
      "(174, 28)\n"
     ]
    }
   ],
   "source": [
    "filtered_songs = df_nf[df_nf[\"pid\"].isin(pid_list)].drop(columns=['track_uri', 'track_name', 'artist_name', 'id', 'name', 'albumn', 'album_id', 'artists', 'artist_ids', 'track_number', 'disc_number', 'explicit', 'duration_ms', 'time_signature', 'year', 'release_date'], errors='ignore').drop_duplicates().reset_index(drop=True)\n",
    "print(filtered_songs)\n",
    "print(filtered_songs.shape)"
   ]
  },
  {
   "cell_type": "code",
   "execution_count": null,
   "id": "08136d70-494c-4a32-bc61-ac136894158e",
   "metadata": {},
   "outputs": [],
   "source": [
    "filtered_songs_numbers_only = filtered_songsdrop(columns=['track_uri', 'track_name', 'artist_name', 'id', 'name', 'albumn', 'album_id', 'artists', 'artist_ids', 'track_number', 'disc_number', 'explicit', 'duration_ms', 'time_signature', 'year', 'release_date'], errors='ignore')"
   ]
  },
  {
   "cell_type": "code",
   "execution_count": 13,
   "id": "da44aa7a-2c8b-4089-a3e0-586e91a62233",
   "metadata": {},
   "outputs": [
    {
     "ename": "NameError",
     "evalue": "name 'track_latent' is not defined",
     "output_type": "error",
     "traceback": [
      "\u001b[1;31m---------------------------------------------------------------------------\u001b[0m",
      "\u001b[1;31mNameError\u001b[0m                                 Traceback (most recent call last)",
      "Cell \u001b[1;32mIn[13], line 2\u001b[0m\n\u001b[0;32m      1\u001b[0m knn \u001b[38;5;241m=\u001b[39m NearestNeighbors(n_neighbors\u001b[38;5;241m=\u001b[39m\u001b[38;5;241m10\u001b[39m, algorithm\u001b[38;5;241m=\u001b[39m\u001b[38;5;124m'\u001b[39m\u001b[38;5;124mball_tree\u001b[39m\u001b[38;5;124m'\u001b[39m)\n\u001b[1;32m----> 2\u001b[0m all_track_ids_list \u001b[38;5;241m=\u001b[39m \u001b[38;5;28mlist\u001b[39m(\u001b[43mtrack_latent\u001b[49m\u001b[38;5;241m.\u001b[39mkeys())\n\u001b[0;32m      3\u001b[0m all_vectors \u001b[38;5;241m=\u001b[39m np\u001b[38;5;241m.\u001b[39marray(\u001b[38;5;28mlist\u001b[39m(track_latent\u001b[38;5;241m.\u001b[39mvalues()))\n\u001b[0;32m      4\u001b[0m \u001b[38;5;66;03m# knn.fit(all_vectors, all_track_ids_list)\u001b[39;00m\n",
      "\u001b[1;31mNameError\u001b[0m: name 'track_latent' is not defined"
     ]
    }
   ],
   "source": [
    "# 2. Train K Nearest Neighbors model\n",
    "nbrs = NearestNeighbors(n_neighbors=10, algorithm='ball_tree')\n",
    "all_track_ids_list = list(track_latent.keys())\n",
    "all_vectors = np.array(list(track_latent.values()))\n",
    "# knn.fit(all_vectors, all_track_ids_list)\n",
    "knn.fit(all_vectors)"
   ]
  },
  {
   "cell_type": "code",
   "execution_count": null,
   "id": "aeced977-2b8e-4dcb-94b0-bd53e14183e3",
   "metadata": {},
   "outputs": [],
   "source": []
  }
 ],
 "metadata": {
  "kernelspec": {
   "display_name": "Python 3 (ipykernel)",
   "language": "python",
   "name": "python3"
  },
  "language_info": {
   "codemirror_mode": {
    "name": "ipython",
    "version": 3
   },
   "file_extension": ".py",
   "mimetype": "text/x-python",
   "name": "python",
   "nbconvert_exporter": "python",
   "pygments_lexer": "ipython3",
   "version": "3.10.16"
  }
 },
 "nbformat": 4,
 "nbformat_minor": 5
}
