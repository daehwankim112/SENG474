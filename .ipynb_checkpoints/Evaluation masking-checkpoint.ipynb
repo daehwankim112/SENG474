{
 "cells": [
  {
   "cell_type": "code",
   "execution_count": 152,
   "id": "ec4fb4e6-d819-414b-bbf4-84b451a0ce70",
   "metadata": {},
   "outputs": [],
   "source": [
    "import pandas as pd\n",
    "import numpy as np\n",
    "import matplotlib.pyplot as plt"
   ]
  },
  {
   "cell_type": "code",
   "execution_count": 153,
   "id": "d45806ac-6ede-45c2-8f9f-14b8eba36642",
   "metadata": {},
   "outputs": [],
   "source": [
    "pid = 0\n",
    "df = pd.read_csv(\"new_features.csv\")\n",
    "recommended_song = pd.read_csv(\"recommendation_song.csv\")\n",
    "masked_answer = pd.read_csv(\"masked_answer.csv\")\n",
    "all_recommended_songs = pd.read_csv(\"all_recommended_songs.csv\")\n",
    "all_masked_answers = pd.read_csv(\"all_masked_answers.csv\")"
   ]
  },
  {
   "cell_type": "code",
   "execution_count": 154,
   "id": "85ce0b9c-7364-42b9-9584-ccea5de52a02",
   "metadata": {},
   "outputs": [
    {
     "name": "stdout",
     "output_type": "stream",
     "text": [
      "(49838, 28)\n"
     ]
    }
   ],
   "source": [
    "all_songs_numbers_only = df.drop(columns=['pid'], errors='ignore').drop_duplicates().reset_index(drop=True)\n",
    "print(all_songs_numbers_only.shape)"
   ]
  },
  {
   "cell_type": "code",
   "execution_count": 155,
   "id": "3f611f7b-68fc-4f08-b825-2cdbd34e951c",
   "metadata": {},
   "outputs": [
    {
     "name": "stdout",
     "output_type": "stream",
     "text": [
      "                              track_uri track_name artist_name  \\\n",
      "0  spotify:track:3dFwpxh2yH7C7p9BGEKLVB    Goodies       Ciara   \n",
      "\n",
      "                 track_id                      id  \\\n",
      "0  3dFwpxh2yH7C7p9BGEKLVB  3dFwpxh2yH7C7p9BGEKLVB   \n",
      "\n",
      "                          name    album                album_id  \\\n",
      "0  Goodies (feat. Petey Pablo)  Goodies  71gUhKYZIWmmjqAHlY4Br3   \n",
      "\n",
      "                    artists  \\\n",
      "0  ['Ciara', 'Petey Pablo']   \n",
      "\n",
      "                                          artist_ids  ...  speechiness  \\\n",
      "0  ['2NdeV5rLm47xAvogXrYhJX', '4Js9eYwAf9rypNtV8p...  ...       0.0491   \n",
      "\n",
      "   acousticness  instrumentalness  liveness  valence    tempo  duration_ms  \\\n",
      "0        0.0277          0.000002     0.298    0.872  102.017       223000   \n",
      "\n",
      "   time_signature  year  release_date  \n",
      "0             4.0  2004    2004-09-27  \n",
      "\n",
      "[1 rows x 28 columns]\n"
     ]
    }
   ],
   "source": [
    "recommended_song_final = all_songs_numbers_only[all_songs_numbers_only['track_id'] == recommended_song.iloc[0, 0]].reset_index(drop=True)\n",
    "masked_answer_final = all_songs_numbers_only[all_songs_numbers_only['track_id'] == masked_answer.iloc[0, 0]].reset_index(drop=True)\n",
    "print(recommended_song_final)"
   ]
  },
  {
   "cell_type": "code",
   "execution_count": 156,
   "id": "5ae0ffe4-a95f-46b1-94c5-820f507c7794",
   "metadata": {},
   "outputs": [
    {
     "name": "stdout",
     "output_type": "stream",
     "text": [
      "Input playlist:\n",
      "   - Toxic by Britney Spears\n",
      "   - Rock Your Body by Justin Timberlake\n",
      "   - Say My Name by Destiny's Child\n",
      "   - Hey Ya! - Radio Mix / Club Mix by OutKast\n",
      "   - Jumpin', Jumpin' by Destiny's Child\n",
      "   - Stacy's Mom by Bowling For Soup\n",
      "\n",
      "Recommended song given the playlist:\n",
      "   - Goodies by Ciara\n",
      "\n",
      "Masked answer:\n",
      "   - Stacy's Mom by Bowling For Soup\n"
     ]
    }
   ],
   "source": [
    "playlist = df[df['pid'] == pid]\n",
    "\n",
    "print(\"Input playlist:\")\n",
    "\n",
    "for idx, row in playlist.iterrows():\n",
    "        print(f\"   - {row['track_name']} by {row['artist_name']}\")\n",
    "\n",
    "print(\"\\nRecommended song given the playlist:\")\n",
    "print(f\"   - {recommended_song_final['track_name'][0]} by {recommended_song_final['artist_name'][0]}\")\n",
    "\n",
    "print(\"\\nMasked answer:\")\n",
    "print(f\"   - {masked_answer_final['track_name'][0]} by {masked_answer_final['artist_name'][0]}\")"
   ]
  },
  {
   "cell_type": "code",
   "execution_count": 157,
   "id": "53d2ce32-2840-494b-9c8c-38f322bd8e49",
   "metadata": {},
   "outputs": [
    {
     "ename": "KeyError",
     "evalue": "0",
     "output_type": "error",
     "traceback": [
      "\u001b[1;31m---------------------------------------------------------------------------\u001b[0m",
      "\u001b[1;31mKeyError\u001b[0m                                  Traceback (most recent call last)",
      "File \u001b[1;32m~\\anaconda3\\envs\\SENG474\\lib\\site-packages\\pandas\\core\\indexes\\base.py:3805\u001b[0m, in \u001b[0;36mIndex.get_loc\u001b[1;34m(self, key)\u001b[0m\n\u001b[0;32m   3804\u001b[0m \u001b[38;5;28;01mtry\u001b[39;00m:\n\u001b[1;32m-> 3805\u001b[0m     \u001b[38;5;28;01mreturn\u001b[39;00m \u001b[38;5;28;43mself\u001b[39;49m\u001b[38;5;241;43m.\u001b[39;49m\u001b[43m_engine\u001b[49m\u001b[38;5;241;43m.\u001b[39;49m\u001b[43mget_loc\u001b[49m\u001b[43m(\u001b[49m\u001b[43mcasted_key\u001b[49m\u001b[43m)\u001b[49m\n\u001b[0;32m   3806\u001b[0m \u001b[38;5;28;01mexcept\u001b[39;00m \u001b[38;5;167;01mKeyError\u001b[39;00m \u001b[38;5;28;01mas\u001b[39;00m err:\n",
      "File \u001b[1;32mindex.pyx:167\u001b[0m, in \u001b[0;36mpandas._libs.index.IndexEngine.get_loc\u001b[1;34m()\u001b[0m\n",
      "File \u001b[1;32mindex.pyx:196\u001b[0m, in \u001b[0;36mpandas._libs.index.IndexEngine.get_loc\u001b[1;34m()\u001b[0m\n",
      "File \u001b[1;32mpandas\\\\_libs\\\\hashtable_class_helper.pxi:7081\u001b[0m, in \u001b[0;36mpandas._libs.hashtable.PyObjectHashTable.get_item\u001b[1;34m()\u001b[0m\n",
      "File \u001b[1;32mpandas\\\\_libs\\\\hashtable_class_helper.pxi:7089\u001b[0m, in \u001b[0;36mpandas._libs.hashtable.PyObjectHashTable.get_item\u001b[1;34m()\u001b[0m\n",
      "\u001b[1;31mKeyError\u001b[0m: 0",
      "\nThe above exception was the direct cause of the following exception:\n",
      "\u001b[1;31mKeyError\u001b[0m                                  Traceback (most recent call last)",
      "Cell \u001b[1;32mIn[157], line 4\u001b[0m\n\u001b[0;32m      2\u001b[0m total_size \u001b[38;5;241m=\u001b[39m \u001b[38;5;28mrange\u001b[39m(\u001b[38;5;28mlen\u001b[39m(all_recommended_songs))\n\u001b[0;32m      3\u001b[0m \u001b[38;5;28;01mfor\u001b[39;00m i \u001b[38;5;129;01min\u001b[39;00m total_size:\n\u001b[1;32m----> 4\u001b[0m     \u001b[38;5;28;01mif\u001b[39;00m \u001b[43mall_recommended_songs\u001b[49m\u001b[43m[\u001b[49m\u001b[43mi\u001b[49m\u001b[43m]\u001b[49m \u001b[38;5;241m==\u001b[39m all_masked_answers[i]\u001b[38;5;241m.\u001b[39mvalue:\n\u001b[0;32m      5\u001b[0m         masking_hit \u001b[38;5;241m+\u001b[39m\u001b[38;5;241m=\u001b[39m \u001b[38;5;241m1\u001b[39m\n\u001b[0;32m      7\u001b[0m \u001b[38;5;28mprint\u001b[39m(\u001b[38;5;124m\"\u001b[39m\u001b[38;5;124mHit rate:\u001b[39m\u001b[38;5;124m\"\u001b[39m, \u001b[38;5;124m\"\u001b[39m\u001b[38;5;132;01m{:.2f}\u001b[39;00m\u001b[38;5;124m\"\u001b[39m\u001b[38;5;241m.\u001b[39mformat(masking_hit \u001b[38;5;241m/\u001b[39m total_size \u001b[38;5;241m*\u001b[39m \u001b[38;5;241m100\u001b[39m))\n",
      "File \u001b[1;32m~\\anaconda3\\envs\\SENG474\\lib\\site-packages\\pandas\\core\\frame.py:4102\u001b[0m, in \u001b[0;36mDataFrame.__getitem__\u001b[1;34m(self, key)\u001b[0m\n\u001b[0;32m   4100\u001b[0m \u001b[38;5;28;01mif\u001b[39;00m \u001b[38;5;28mself\u001b[39m\u001b[38;5;241m.\u001b[39mcolumns\u001b[38;5;241m.\u001b[39mnlevels \u001b[38;5;241m>\u001b[39m \u001b[38;5;241m1\u001b[39m:\n\u001b[0;32m   4101\u001b[0m     \u001b[38;5;28;01mreturn\u001b[39;00m \u001b[38;5;28mself\u001b[39m\u001b[38;5;241m.\u001b[39m_getitem_multilevel(key)\n\u001b[1;32m-> 4102\u001b[0m indexer \u001b[38;5;241m=\u001b[39m \u001b[38;5;28;43mself\u001b[39;49m\u001b[38;5;241;43m.\u001b[39;49m\u001b[43mcolumns\u001b[49m\u001b[38;5;241;43m.\u001b[39;49m\u001b[43mget_loc\u001b[49m\u001b[43m(\u001b[49m\u001b[43mkey\u001b[49m\u001b[43m)\u001b[49m\n\u001b[0;32m   4103\u001b[0m \u001b[38;5;28;01mif\u001b[39;00m is_integer(indexer):\n\u001b[0;32m   4104\u001b[0m     indexer \u001b[38;5;241m=\u001b[39m [indexer]\n",
      "File \u001b[1;32m~\\anaconda3\\envs\\SENG474\\lib\\site-packages\\pandas\\core\\indexes\\base.py:3812\u001b[0m, in \u001b[0;36mIndex.get_loc\u001b[1;34m(self, key)\u001b[0m\n\u001b[0;32m   3807\u001b[0m     \u001b[38;5;28;01mif\u001b[39;00m \u001b[38;5;28misinstance\u001b[39m(casted_key, \u001b[38;5;28mslice\u001b[39m) \u001b[38;5;129;01mor\u001b[39;00m (\n\u001b[0;32m   3808\u001b[0m         \u001b[38;5;28misinstance\u001b[39m(casted_key, abc\u001b[38;5;241m.\u001b[39mIterable)\n\u001b[0;32m   3809\u001b[0m         \u001b[38;5;129;01mand\u001b[39;00m \u001b[38;5;28many\u001b[39m(\u001b[38;5;28misinstance\u001b[39m(x, \u001b[38;5;28mslice\u001b[39m) \u001b[38;5;28;01mfor\u001b[39;00m x \u001b[38;5;129;01min\u001b[39;00m casted_key)\n\u001b[0;32m   3810\u001b[0m     ):\n\u001b[0;32m   3811\u001b[0m         \u001b[38;5;28;01mraise\u001b[39;00m InvalidIndexError(key)\n\u001b[1;32m-> 3812\u001b[0m     \u001b[38;5;28;01mraise\u001b[39;00m \u001b[38;5;167;01mKeyError\u001b[39;00m(key) \u001b[38;5;28;01mfrom\u001b[39;00m\u001b[38;5;250m \u001b[39m\u001b[38;5;21;01merr\u001b[39;00m\n\u001b[0;32m   3813\u001b[0m \u001b[38;5;28;01mexcept\u001b[39;00m \u001b[38;5;167;01mTypeError\u001b[39;00m:\n\u001b[0;32m   3814\u001b[0m     \u001b[38;5;66;03m# If we have a listlike key, _check_indexing_error will raise\u001b[39;00m\n\u001b[0;32m   3815\u001b[0m     \u001b[38;5;66;03m#  InvalidIndexError. Otherwise we fall through and re-raise\u001b[39;00m\n\u001b[0;32m   3816\u001b[0m     \u001b[38;5;66;03m#  the TypeError.\u001b[39;00m\n\u001b[0;32m   3817\u001b[0m     \u001b[38;5;28mself\u001b[39m\u001b[38;5;241m.\u001b[39m_check_indexing_error(key)\n",
      "\u001b[1;31mKeyError\u001b[0m: 0"
     ]
    }
   ],
   "source": [
    "masking_hit = 0\n",
    "total_size = len(all_recommended_songs)  # Get the actual size\n",
    "\n",
    "for i in range(total_size):\n",
    "    recommended_song = all_recommended_songs[i]\n",
    "    masked_answer = all_masked_answers[i][0]  # Access the first element\n",
    "\n",
    "    if recommended_song == masked_answer:\n",
    "        masking_hit += 1\n",
    "\n",
    "hit_rate = (masking_hit / total_size) * 100 if total_size > 0 else 0\n",
    "print(\"Hit rate:\", \"{:.2f}%\".format(hit_rate))\n"
   ]
  },
  {
   "cell_type": "code",
   "execution_count": null,
   "id": "bccae4c2-ba73-4c4d-a89b-7681bc9efa06",
   "metadata": {},
   "outputs": [],
   "source": []
  }
 ],
 "metadata": {
  "kernelspec": {
   "display_name": "Python 3 (ipykernel)",
   "language": "python",
   "name": "python3"
  },
  "language_info": {
   "codemirror_mode": {
    "name": "ipython",
    "version": 3
   },
   "file_extension": ".py",
   "mimetype": "text/x-python",
   "name": "python",
   "nbconvert_exporter": "python",
   "pygments_lexer": "ipython3",
   "version": "3.10.16"
  }
 },
 "nbformat": 4,
 "nbformat_minor": 5
}
