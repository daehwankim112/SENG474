{
 "cells": [
  {
   "cell_type": "code",
   "execution_count": 210,
   "id": "ec4fb4e6-d819-414b-bbf4-84b451a0ce70",
   "metadata": {},
   "outputs": [],
   "source": [
    "import pandas as pd\n",
    "import numpy as np\n",
    "import matplotlib.pyplot as plt"
   ]
  },
  {
   "cell_type": "code",
   "execution_count": 211,
   "id": "d45806ac-6ede-45c2-8f9f-14b8eba36642",
   "metadata": {},
   "outputs": [],
   "source": [
    "pid = 0\n",
    "df = pd.read_csv(\"new_features.csv\")\n",
    "recommended_song = pd.read_csv(\"recommendation_song.csv\")\n",
    "masked_answer = pd.read_csv(\"masked_answer.csv\")\n",
    "all_recommended_songs = pd.read_csv(\"all_recommended_songs.csv\")\n",
    "all_masked_answers = pd.read_csv(\"all_masked_answers.csv\")"
   ]
  },
  {
   "cell_type": "code",
   "execution_count": 212,
   "id": "85ce0b9c-7364-42b9-9584-ccea5de52a02",
   "metadata": {},
   "outputs": [
    {
     "name": "stdout",
     "output_type": "stream",
     "text": [
      "(49838, 28)\n"
     ]
    }
   ],
   "source": [
    "all_songs_numbers_only = df.drop(columns=['pid'], errors='ignore').drop_duplicates().reset_index(drop=True)\n",
    "print(all_songs_numbers_only.shape)"
   ]
  },
  {
   "cell_type": "code",
   "execution_count": 213,
   "id": "3f611f7b-68fc-4f08-b825-2cdbd34e951c",
   "metadata": {},
   "outputs": [
    {
     "name": "stdout",
     "output_type": "stream",
     "text": [
      "                              track_uri track_name artist_name  \\\n",
      "0  spotify:track:3dFwpxh2yH7C7p9BGEKLVB    Goodies       Ciara   \n",
      "\n",
      "                 track_id                      id  \\\n",
      "0  3dFwpxh2yH7C7p9BGEKLVB  3dFwpxh2yH7C7p9BGEKLVB   \n",
      "\n",
      "                          name    album                album_id  \\\n",
      "0  Goodies (feat. Petey Pablo)  Goodies  71gUhKYZIWmmjqAHlY4Br3   \n",
      "\n",
      "                    artists  \\\n",
      "0  ['Ciara', 'Petey Pablo']   \n",
      "\n",
      "                                          artist_ids  ...  speechiness  \\\n",
      "0  ['2NdeV5rLm47xAvogXrYhJX', '4Js9eYwAf9rypNtV8p...  ...       0.0491   \n",
      "\n",
      "   acousticness  instrumentalness  liveness  valence    tempo  duration_ms  \\\n",
      "0        0.0277          0.000002     0.298    0.872  102.017       223000   \n",
      "\n",
      "   time_signature  year  release_date  \n",
      "0             4.0  2004    2004-09-27  \n",
      "\n",
      "[1 rows x 28 columns]\n"
     ]
    }
   ],
   "source": [
    "recommended_song_final = all_songs_numbers_only[all_songs_numbers_only['track_id'] == recommended_song.iloc[0, 0]].reset_index(drop=True)\n",
    "masked_answer_final = all_songs_numbers_only[all_songs_numbers_only['track_id'] == masked_answer.iloc[0, 0]].reset_index(drop=True)\n",
    "print(recommended_song_final)"
   ]
  },
  {
   "cell_type": "code",
   "execution_count": 214,
   "id": "5ae0ffe4-a95f-46b1-94c5-820f507c7794",
   "metadata": {},
   "outputs": [
    {
     "name": "stdout",
     "output_type": "stream",
     "text": [
      "Input playlist:\n",
      "   - Toxic by Britney Spears\n",
      "   - Rock Your Body by Justin Timberlake\n",
      "   - Say My Name by Destiny's Child\n",
      "   - Hey Ya! - Radio Mix / Club Mix by OutKast\n",
      "   - Jumpin', Jumpin' by Destiny's Child\n",
      "   - Stacy's Mom by Bowling For Soup\n",
      "\n",
      "Recommended song given the playlist:\n",
      "   - Goodies by Ciara\n",
      "\n",
      "Masked answer:\n",
      "   - Stacy's Mom by Bowling For Soup\n"
     ]
    }
   ],
   "source": [
    "playlist = df[df['pid'] == pid]\n",
    "\n",
    "print(\"Input playlist:\")\n",
    "\n",
    "for idx, row in playlist.iterrows():\n",
    "        print(f\"   - {row['track_name']} by {row['artist_name']}\")\n",
    "\n",
    "print(\"\\nRecommended song given the playlist:\")\n",
    "print(f\"   - {recommended_song_final['track_name'][0]} by {recommended_song_final['artist_name'][0]}\")\n",
    "\n",
    "print(\"\\nMasked answer:\")\n",
    "print(f\"   - {masked_answer_final['track_name'][0]} by {masked_answer_final['artist_name'][0]}\")"
   ]
  },
  {
   "cell_type": "code",
   "execution_count": 215,
   "id": "53d2ce32-2840-494b-9c8c-38f322bd8e49",
   "metadata": {},
   "outputs": [
    {
     "name": "stdout",
     "output_type": "stream",
     "text": [
      "7792\n",
      "Total number of hits: 4\n",
      "Total number of recommended songs: 7792\n",
      "Hit rate: 0.05%\n"
     ]
    }
   ],
   "source": [
    "masking_hits = 0\n",
    "total_size = len(all_recommended_songs)  # Get the actual size\n",
    "\n",
    "print(total_size)\n",
    "\n",
    "for i in range(total_size):\n",
    "    masked_answer = all_masked_answers.iloc[i, 0]  # Access first column value\n",
    "    recommended_song = all_recommended_songs.iloc[i].iloc[1]  # Get corresponding recommended song\n",
    "    \n",
    "    if masked_answer == recommended_song:\n",
    "        masking_hits += 1\n",
    "\n",
    "hit_rate = (masking_hits / total_size) * 100 if total_size > 0 else 0\n",
    "print(\"Total number of hits:\", masking_hits)\n",
    "print(\"Total number of recommended songs:\", total_size)\n",
    "print(\"Hit rate:\", \"{:.2f}%\".format(hit_rate))\n"
   ]
  },
  {
   "cell_type": "code",
   "execution_count": null,
   "id": "bccae4c2-ba73-4c4d-a89b-7681bc9efa06",
   "metadata": {},
   "outputs": [],
   "source": []
  }
 ],
 "metadata": {
  "kernelspec": {
   "display_name": "Python 3 (ipykernel)",
   "language": "python",
   "name": "python3"
  },
  "language_info": {
   "codemirror_mode": {
    "name": "ipython",
    "version": 3
   },
   "file_extension": ".py",
   "mimetype": "text/x-python",
   "name": "python",
   "nbconvert_exporter": "python",
   "pygments_lexer": "ipython3",
   "version": "3.10.16"
  }
 },
 "nbformat": 4,
 "nbformat_minor": 5
}
